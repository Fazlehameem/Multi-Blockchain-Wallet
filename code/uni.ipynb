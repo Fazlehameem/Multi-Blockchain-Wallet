{
 "metadata": {
  "language_info": {
   "codemirror_mode": {
    "name": "ipython",
    "version": 3
   },
   "file_extension": ".py",
   "mimetype": "text/x-python",
   "name": "python",
   "nbconvert_exporter": "python",
   "pygments_lexer": "ipython3",
   "version": "3.7.9-final"
  },
  "orig_nbformat": 2,
  "kernelspec": {
   "name": "python3",
   "display_name": "Python 3.7.9 64-bit",
   "metadata": {
    "interpreter": {
     "hash": "182300eeb19b82623296571373c5a3cab372f5258f188d6ba2114496d3e72f21"
    }
   }
  }
 },
 "nbformat": 4,
 "nbformat_minor": 2,
 "cells": [
  {
   "cell_type": "code",
   "execution_count": 23,
   "metadata": {},
   "outputs": [],
   "source": [
    "import subprocess\n",
    "import json\n",
    "\n",
    "\n",
    "def derive_wallets(coin):\n",
    "\n",
    "    command = 'php derive -g --mnemonic=\"wish mistake trumpet title tonight desert web cannon tumble pause lemon prepare\" --cols=path,address,privkey,pubkey --format=json'\n",
    "    \n",
    "    p = subprocess.Popen(command, stdout=subprocess.PIPE, shell=True)\n",
    "    (output, error) = p.communicate()\n",
    "    \n",
    "    p_status = p.wait()\n",
    "    \n",
    "    keys =json.loads(output)\n",
    "    \n",
    "    return (keys)"
   ]
  },
  {
   "cell_type": "code",
   "execution_count": 24,
   "metadata": {},
   "outputs": [],
   "source": [
    "from web3 import Web3\n",
    "from web3.middleware import geth_poa_middleware\n",
    "\n",
    "from eth_account import Account\n",
    "from bit import PrivateKeyTestnet\n",
    "from bit.network import NetworkAPI"
   ]
  },
  {
   "cell_type": "code",
   "execution_count": 25,
   "metadata": {},
   "outputs": [],
   "source": [
    "from constant import *\n"
   ]
  },
  {
   "cell_type": "code",
   "execution_count": 26,
   "metadata": {},
   "outputs": [],
   "source": [
    "from dotenv import load_dotenv\n",
    "load_dotenv()\n",
    "mnemonic = os.getenv('mnemonic', 'wish mistake trumpet title tonight desert web cannon tumble pause lemon prepare')"
   ]
  },
  {
   "cell_type": "code",
   "execution_count": 32,
   "metadata": {},
   "outputs": [
    {
     "output_type": "stream",
     "name": "stdout",
     "text": [
      "{'btc-test': [{'path': \"m/44'/0'/0'/0/0\", 'address': '1MgahxFtoKbWbHgFt9DPYaBv3W4kNFGsDG', 'privkey': 'L1JLVNmiyhUpRp3qRxbaobgGuiTVc3aT8Q8o1LSfP2y5BBdceZy4', 'pubkey': '03ed1af31a5a284cc88ebe30130182dfe058b7d4a94734768d1354f1aea0c01e0b'}, {'path': \"m/44'/0'/0'/0/1\", 'address': '1GiepSWoFkMHaVVUPz5bn68g6hxL1JptyR', 'privkey': 'L2VY2LJoXsNhSpBXJmdm9MTo7NAUW4bsZVVxt7UymczM6WEomZHG', 'pubkey': '033569a979b8fec2e8dfb6f0eecaf02003b9eb674a3061ba45282107afe62d987c'}, {'path': \"m/44'/0'/0'/0/2\", 'address': '15oS4hstUTfVbXzUa6BTicG1wfHchbbXaL', 'privkey': 'KxmaauYmbLM97VvFeXqS3aKBPej6kSXBKZnmQv2X9gN958zo5d6P', 'pubkey': '0379ab2e6a934a2f393a55be54d4e1be3b4b7bdabbeffc6c34dc0ced37ae94da9e'}, {'path': \"m/44'/0'/0'/0/3\", 'address': '1Mfq82rZyAkwTNBaGSTXQiPi2Una1j9YC7', 'privkey': 'Kx5ZCZ7MdfgcsH8cq5mS48pS5UFFANnmf1Wq5DoNxJ3WNaZr8e7w', 'pubkey': '02510a953f6fb48e7b2fc9855ed722e7c3da448e1ea7230f41aa7edf79c4351e51'}, {'path': \"m/44'/0'/0'/0/4\", 'address': '189cPjV4W6SpmvG2fPe4Cg96esBTaNo2FS', 'privkey': 'L4q6UfyXuAY51sYZmvJYneG3YufDkhS5hrHnjyndTipmzRRicZJg', 'pubkey': '0238a5f568d83ef15f86eb7977726ea8209716f4b0a8b63381b1635d85edcdc761'}, {'path': \"m/44'/0'/0'/0/5\", 'address': '14QGZN6qhbB3TuMXumJ7HDExqtJMcvSQ4w', 'privkey': 'KysE3r5XMz96UBzGp2UkuvHWZj2PK3A4jqMJcoJYca99TQd8hh3M', 'pubkey': '026631ea219f0a05d35c61c47b43123f57688c16e8663693076702969afe07be9f'}, {'path': \"m/44'/0'/0'/0/6\", 'address': '1FA8VuG19373dq3vyS6tPoGJMuL7n5xTt2', 'privkey': 'L3xXGbRk4ekF6yiSu8t9Sp1iFiqzvvjmExsaYU5caJVvJ8hHzNy4', 'pubkey': '0226238693b57de4c2eb26560123e872af2df3344d27871f2e25bf0d2afaeb59b5'}, {'path': \"m/44'/0'/0'/0/7\", 'address': '194cSwtsfVFEm29Qw1MnoSe5Q5PhfeLUxu', 'privkey': 'KzdSUN4Q6YGZNopLN7apqZ5HcmLNkAGfp7Ln5jhZv2kRdJf9fBQT', 'pubkey': '02cd40a82cb4a0f3ee3be7a53cfbe069cb016eda550f7329acdbbc56f7d9a7d39b'}, {'path': \"m/44'/0'/0'/0/8\", 'address': '1MGw2KkBZvVHXj5oaZuNYxwPgzWnRjuvD9', 'privkey': 'KxgxqjUDQCfq1H36BB7oheWfpVpEYE9f9PRUWny8SNMTnpvcq2iz', 'pubkey': '02a83fa321e5f799a2f1785bccf14cc829ce09ee3c1bcabeced2aabfa5b6ef5782'}, {'path': \"m/44'/0'/0'/0/9\", 'address': '1JfURrvCsh6xE91KiU8tE4uDNfjxk2kb2Q', 'privkey': 'L1APceanhXh41YbHmCRvQo4kGFudSLZC1QJ1wmqwJapzbEXeidhG', 'pubkey': '039ff347378591fd39848cd5a889d86a793a304e3e4ce77e49dd924232475d3136'}], 'eth': [{'path': \"m/44'/0'/0'/0/0\", 'address': '1MgahxFtoKbWbHgFt9DPYaBv3W4kNFGsDG', 'privkey': 'L1JLVNmiyhUpRp3qRxbaobgGuiTVc3aT8Q8o1LSfP2y5BBdceZy4', 'pubkey': '03ed1af31a5a284cc88ebe30130182dfe058b7d4a94734768d1354f1aea0c01e0b'}, {'path': \"m/44'/0'/0'/0/1\", 'address': '1GiepSWoFkMHaVVUPz5bn68g6hxL1JptyR', 'privkey': 'L2VY2LJoXsNhSpBXJmdm9MTo7NAUW4bsZVVxt7UymczM6WEomZHG', 'pubkey': '033569a979b8fec2e8dfb6f0eecaf02003b9eb674a3061ba45282107afe62d987c'}, {'path': \"m/44'/0'/0'/0/2\", 'address': '15oS4hstUTfVbXzUa6BTicG1wfHchbbXaL', 'privkey': 'KxmaauYmbLM97VvFeXqS3aKBPej6kSXBKZnmQv2X9gN958zo5d6P', 'pubkey': '0379ab2e6a934a2f393a55be54d4e1be3b4b7bdabbeffc6c34dc0ced37ae94da9e'}, {'path': \"m/44'/0'/0'/0/3\", 'address': '1Mfq82rZyAkwTNBaGSTXQiPi2Una1j9YC7', 'privkey': 'Kx5ZCZ7MdfgcsH8cq5mS48pS5UFFANnmf1Wq5DoNxJ3WNaZr8e7w', 'pubkey': '02510a953f6fb48e7b2fc9855ed722e7c3da448e1ea7230f41aa7edf79c4351e51'}, {'path': \"m/44'/0'/0'/0/4\", 'address': '189cPjV4W6SpmvG2fPe4Cg96esBTaNo2FS', 'privkey': 'L4q6UfyXuAY51sYZmvJYneG3YufDkhS5hrHnjyndTipmzRRicZJg', 'pubkey': '0238a5f568d83ef15f86eb7977726ea8209716f4b0a8b63381b1635d85edcdc761'}, {'path': \"m/44'/0'/0'/0/5\", 'address': '14QGZN6qhbB3TuMXumJ7HDExqtJMcvSQ4w', 'privkey': 'KysE3r5XMz96UBzGp2UkuvHWZj2PK3A4jqMJcoJYca99TQd8hh3M', 'pubkey': '026631ea219f0a05d35c61c47b43123f57688c16e8663693076702969afe07be9f'}, {'path': \"m/44'/0'/0'/0/6\", 'address': '1FA8VuG19373dq3vyS6tPoGJMuL7n5xTt2', 'privkey': 'L3xXGbRk4ekF6yiSu8t9Sp1iFiqzvvjmExsaYU5caJVvJ8hHzNy4', 'pubkey': '0226238693b57de4c2eb26560123e872af2df3344d27871f2e25bf0d2afaeb59b5'}, {'path': \"m/44'/0'/0'/0/7\", 'address': '194cSwtsfVFEm29Qw1MnoSe5Q5PhfeLUxu', 'privkey': 'KzdSUN4Q6YGZNopLN7apqZ5HcmLNkAGfp7Ln5jhZv2kRdJf9fBQT', 'pubkey': '02cd40a82cb4a0f3ee3be7a53cfbe069cb016eda550f7329acdbbc56f7d9a7d39b'}, {'path': \"m/44'/0'/0'/0/8\", 'address': '1MGw2KkBZvVHXj5oaZuNYxwPgzWnRjuvD9', 'privkey': 'KxgxqjUDQCfq1H36BB7oheWfpVpEYE9f9PRUWny8SNMTnpvcq2iz', 'pubkey': '02a83fa321e5f799a2f1785bccf14cc829ce09ee3c1bcabeced2aabfa5b6ef5782'}, {'path': \"m/44'/0'/0'/0/9\", 'address': '1JfURrvCsh6xE91KiU8tE4uDNfjxk2kb2Q', 'privkey': 'L1APceanhXh41YbHmCRvQo4kGFudSLZC1QJ1wmqwJapzbEXeidhG', 'pubkey': '039ff347378591fd39848cd5a889d86a793a304e3e4ce77e49dd924232475d3136'}]}\n"
     ]
    }
   ],
   "source": [
    "coins = {\n",
    "    'btc-test' : derive_wallets(BTCTEST), \n",
    "    'eth': derive_wallets(ETH)\n",
    " }\n",
    "\n",
    "print(coins)"
   ]
  },
  {
   "cell_type": "code",
   "execution_count": 33,
   "metadata": {},
   "outputs": [],
   "source": [
    "w3 = Web3(Web3.HTTPProvider('http://127.0.0.1:8545'))"
   ]
  },
  {
   "cell_type": "code",
   "execution_count": 34,
   "metadata": {},
   "outputs": [],
   "source": [
    "def priv_key_to_account(coin,priv_key): \n",
    "\n",
    "    if coin==BTCTEST:\n",
    "        return PrivateKeyTestnet(priv_key)\n",
    "    elif coin==ETH:\n",
    "        return Account.privateKeyToAccount(priv_key)"
   ]
  },
  {
   "cell_type": "code",
   "execution_count": 45,
   "metadata": {},
   "outputs": [],
   "source": [
    "def create_tx(coin, account, to, amount): \n",
    "    if coin==BTCTEST:\n",
    "        return PrivateKeyTestnet.prepare_transaction(account.address, [(to, amount, BTC)])\n",
    "    elif coin==ETH:\n",
    "        gas_estimate = w3.eth.estimateGas(\n",
    "            {'from': account.address, 'to': to,'value': amount}\n",
    "        )\n",
    "        return {\n",
    "            'from' : account.address,\n",
    "            'to': to,\n",
    "            'value': amount,\n",
    "            'gasPrice': w3.eth.gasPrice,\n",
    "            'gas': gas_estimate,\n",
    "            'nonce': w3.eth.getTransactionCount(account.address)\n",
    "        }\n"
   ]
  },
  {
   "cell_type": "code",
   "execution_count": 46,
   "metadata": {},
   "outputs": [],
   "source": [
    "def send_tx(coin, account, to, amount):\n",
    "    raw_tx = create_tx(coin,account,to,amount)\n",
    "    signed = account.sign_transaction(raw_tx)\n",
    "    if coin == BTCTEST:\n",
    "        return NetworkAPI.broadcast_tx_testnet(signed)\n",
    "        \n",
    "    elif coin==ETH:\n",
    "        return w3.eth.sendRawTransaction(signed.rawTransaction)"
   ]
  },
  {
   "cell_type": "code",
   "execution_count": 49,
   "metadata": {},
   "outputs": [],
   "source": [
    "private_key = \"0xccb16662cd5c1a83d0806300aeede26ef190060fc4e8deb315289c421fc4ab8b\""
   ]
  },
  {
   "cell_type": "code",
   "execution_count": 50,
   "metadata": {},
   "outputs": [
    {
     "output_type": "stream",
     "name": "stdout",
     "text": [
      "0xAa4E22b9cE31424dAde4D1023b0baeE81Db10d37\n"
     ]
    }
   ],
   "source": [
    "my_account = Account.from_key(private_key)\n",
    "print(my_account.address)"
   ]
  },
  {
   "cell_type": "code",
   "execution_count": 61,
   "metadata": {},
   "outputs": [],
   "source": [
    "from web3.middleware import geth_poa_middleware"
   ]
  },
  {
   "cell_type": "code",
   "execution_count": 62,
   "metadata": {},
   "outputs": [],
   "source": [
    "w3.middleware_onion.inject(geth_poa_middleware, layer=0)"
   ]
  },
  {
   "cell_type": "code",
   "execution_count": null,
   "metadata": {},
   "outputs": [],
   "source": []
  }
 ]
}